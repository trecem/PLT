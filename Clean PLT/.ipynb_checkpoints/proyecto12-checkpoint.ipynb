{
 "cells": [
  {
   "cell_type": "markdown",
   "metadata": {},
   "source": [
    "# Proyecto 1 y 2\n",
    "## Temas selectos de tecnologías del lenguaje\n",
    "\n",
    "López Velarde González Guillermo"
   ]
  },
  {
   "cell_type": "markdown",
   "metadata": {},
   "source": [
    "# Modelado del problema\n",
    "\n",
    "## Elección de la tarea\n",
    "\n",
    "Primero se intentará predecir el Género de una persona utilizando información sobre su Orientación sexual, Edad, Lugar de nacimiento, Lugar de residencia, Nivel educativo, Ocupación y Facultad. El Género podrá ser \"hombre\" o \"mujer\".\n",
    "\n",
    "Después, cambiaremos nuestro vector de características a uno que sólo tome en cuenta una conversación de esa persona en WhatsApp. Modelándola usando una matriz TFIDF.\n",
    "\n",
    "Así, podrémos estimar cual de las dos representaciones vectoriales es más acertada, y podrémos saber qué datos son mejores para inferir el género.\n",
    "\n",
    "Ocuparemos 2 métodos para cada representación vectorial: K-Nearest y Naive Bayes.\n",
    "\n",
    "<b>Como hipótesis:</b>\n",
    "En el primer caso, al tener un vector de características con pocos atributos, esperaría un mejor resultado de K-Nearest.\n",
    "En el segundo caso, al tener un vector de características con muchos atributos, esperaría un mejor resultado de Naive Bayes.\n",
    "\n",
    "## Dataset\n",
    "\n",
    "Se tiene un corpus etiquetado de español mensajeado a través de WhatsApp, el cual consta de conversaciones entre dos personas, de las cuales se conocen las siguientes características:\n",
    "\n",
    "Nombre\n",
    "Número telefónico\n",
    "Edad\n",
    "Género\n",
    "Orientación Sexual\n",
    "Lugar de nacimiento\n",
    "Lugar de residencia (Código postal)\n",
    "Otras lenguas\n",
    "Nivel educativo\n",
    "Facultad\n",
    "Licenciatura\n",
    "Ocupación\n",
    "Profesión u oficio\n",
    "Relación con interlocutor\n",
    "\n",
    "Consta de 646 conversaciones con 1292 participantes, donde 698 son mujeres y 594 son hombres.\n",
    "\n",
    "Es importante señalar que las conversaciones se obtuvieron respetando la relación entre hombres y mujeres de cada facultad. Es decir, en Ingeniería se obtuveron proporcionalmente más conversaciones de hombres que de mujeres.\n",
    "\n",
    "Todas las conversaciones fueron recolectadas de ciudad universitaria, por lo que cualquier generalización que de aquí pueda surgir, está delimitada por ese hecho.\n",
    "\n",
    "## Representación Vectorial 1\n",
    "Así, la primera representación vectorial sería la siguiente:<br>\n",
    "\n",
    "Y = [ Género ]<br>\n",
    "Género:<br>\n",
    "1 = Hombre<br>\n",
    "2 = Mujer<br>\n",
    "\n",
    "X = [Edad, Orientación Sexual, LugardeN, CP, Nedu, Fac, Ocu] donde <br>\n",
    "<br>\n",
    "Edad será el número de la edad en sí<br>\n",
    "Orientación Sexual:<br>\n",
    "1 = Heterosexual<br>\n",
    "2 = Otro<br>\n",
    "LugardeN:<br>\n",
    "1 = Aguascalientes<br>\n",
    "2 = Chiapas<br>\n",
    "3 = Chihuahua<br>\n",
    "4 = Chile<br>\n",
    "5 = Ciudad de México<br>\n",
    "6 = Coahuila<br>\n",
    "7 = Colombia<br>\n",
    "8 = Costa Rica<br>\n",
    "9 = Durango<br>\n",
    "10 = Estado de México<br>\n",
    "11 = Estados Unidos<br>\n",
    "12 = Guanajuato<br>\n",
    "13 = Guerrero<br>\n",
    "14 = Hidalgo<br>\n",
    "15 = Italia<br>\n",
    "16 = Jalisco<br>\n",
    "17 = Líbano<br>\n",
    "18 = Michoacán<br>\n",
    "19 = Morelos<br>\n",
    "20 = N/A<br>\n",
    "21 = Oaxaca<br>\n",
    "22 = Puebla<br>\n",
    "23 = Querétaro<br>\n",
    "24 = Quintana Roo<br>\n",
    "25 = Sinaloa<br>\n",
    "26 = Tabasco<br>\n",
    "27 = Veracruz<br>\n",
    "28 = Yucatán<br>\n",
    "\n",
    "CP:<br>\n",
    "El código postal en sí<br>\n",
    "o 1 si el código postal no existe\n",
    "\n",
    "Nedu:<br>\n",
    "1 = Bachillerato<br>\n",
    "2 = Carrera Técnica<br>\n",
    "3 = Doctorado<br>\n",
    "4 = Especialidad<br>\n",
    "5 = Licenciatura<br>\n",
    "6 = Maestría<br>\n",
    "7 = N/A<br>\n",
    "8 = Secundaria<br>\n",
    "\n",
    "Fac: <br>\n",
    "1 = Si no estudia en alguna facultad (N/A)<br>\n",
    "2 = Arquitectura<br>\n",
    "3 = Ciencias<br>\n",
    "4 = Ciencias políticas<br>\n",
    "5 = Contaduría y Administración<br>\n",
    "6 = Derecho<br>\n",
    "7 = Economía<br>\n",
    "8 = Escuela Nacional de Trabajo Social<br>\n",
    "9 = Filosofía y Letras<br>\n",
    "10 = Ingeniería<br>\n",
    "11 = Medicina<br>\n",
    "12 = Medicina Veterinaria y Zootecnia<br>\n",
    "13 = Odontología<br>\n",
    "14 = Psicología<br>\n",
    "15 = Química<br>\n",
    "16 = Urbanismo<br>\n",
    "\n",
    "Ocu:<br>\n",
    "1 = Desempleado<br>\n",
    "2 = Estudia<br>\n",
    "3 = Estudia y Trabaja<br>\n",
    "4 = N/A<br>\n",
    "5 = Trabaja<br>\n",
    "\n",
    "## Representación Vectorial 2\n",
    "\n",
    "Matriz TFIDF de los textos del participante."
   ]
  },
  {
   "cell_type": "markdown",
   "metadata": {},
   "source": [
    "# Desarrollo"
   ]
  },
  {
   "cell_type": "markdown",
   "metadata": {},
   "source": [
    "#### Dependencias"
   ]
  },
  {
   "cell_type": "code",
   "execution_count": 1,
   "metadata": {
    "collapsed": true
   },
   "outputs": [],
   "source": [
    "# -*- coding: utf-8 -*-\n",
    "#López Velarde González Guillermo\n",
    "#Proyecto 1\n",
    "\n",
    "#Importamos las dependencias necesarias.\n",
    "\n",
    "from sklearn.naive_bayes import MultinomialNB\n",
    "from matplotlib.colors import ListedColormap\n",
    "from sklearn import neighbors, datasets\n",
    "import os\n",
    "import numpy as np\n",
    "import pandas as pd\n",
    "from sklearn.metrics import classification_report\n",
    "from sklearn.metrics import confusion_matrix\n",
    "from sklearn.model_selection import train_test_split\n",
    "from sklearn.feature_extraction.text import TfidfVectorizer, CountVectorizer\n",
    "import snowballstemmer\n",
    "import matplotlib.pyplot as plt\n",
    "import re\n",
    "import io\n",
    "%matplotlib inline"
   ]
  },
  {
   "cell_type": "code",
   "execution_count": 2,
   "metadata": {
    "collapsed": true
   },
   "outputs": [],
   "source": [
    "np.random.seed(15)"
   ]
  },
  {
   "cell_type": "code",
   "execution_count": 3,
   "metadata": {
    "collapsed": true
   },
   "outputs": [],
   "source": [
    "df = pd.ExcelFile(\"plantilla11nov_etiquetada.xlsx\")\n",
    "df = df.parse(\"Sheet1\")"
   ]
  },
  {
   "cell_type": "markdown",
   "metadata": {},
   "source": [
    "## 1er Representación Vectorial"
   ]
  },
  {
   "cell_type": "markdown",
   "metadata": {},
   "source": [
    "### Obtener vectores X y Y"
   ]
  },
  {
   "cell_type": "code",
   "execution_count": 4,
   "metadata": {
    "collapsed": true
   },
   "outputs": [],
   "source": [
    "Y = []\n",
    "X = []\n",
    "for row in df.iterrows():\n",
    "    Y.append(row[1]['Género'])\n",
    "    try:\n",
    "        CP = int(row[1]['Lugar de residencia (C.P.)'])\n",
    "    except ValueError:\n",
    "        CP = 1\n",
    "    fac = row[1]['Facultad'] \n",
    "    edad = row[1]['Edad']\n",
    "    lugar = row[1]['Lugar de nacimiento']\n",
    "    educativo = row[1]['Nivel educativo']\n",
    "    ocupacion = row[1]['Ocupación']\n",
    "    orsex = row[1]['Orientación sexual']\n",
    "\n",
    "    X.append([int(edad), int(orsex), int(lugar), int(CP), int(educativo), int(fac), int(ocupacion)])\n",
    "\n",
    "X = np.array(X)\n",
    "Y = np.array(Y)"
   ]
  },
  {
   "cell_type": "markdown",
   "metadata": {},
   "source": [
    "#### Comprobamos que los vectores sean del mismo tamaño\n",
    "Es decir, a cada elemento de X le corresponde una etiqueta en el vector Y"
   ]
  },
  {
   "cell_type": "code",
   "execution_count": 5,
   "metadata": {},
   "outputs": [
    {
     "name": "stdout",
     "output_type": "stream",
     "text": [
      "X y Y son del mismo tamaño\n"
     ]
    }
   ],
   "source": [
    "if len(X) == len(Y):\n",
    "    print (\"X y Y son del mismo tamaño\")"
   ]
  },
  {
   "cell_type": "markdown",
   "metadata": {},
   "source": [
    "### Segmentación de datos\n",
    "Se realizará una segmentación para poder realizar una evaluación Hold-Out"
   ]
  },
  {
   "cell_type": "code",
   "execution_count": 6,
   "metadata": {
    "collapsed": true
   },
   "outputs": [],
   "source": [
    "X_train, X_test, Y_train, Y_test = train_test_split(X, Y, shuffle = True)"
   ]
  },
  {
   "cell_type": "markdown",
   "metadata": {},
   "source": [
    "### Naive Bayes"
   ]
  },
  {
   "cell_type": "code",
   "execution_count": 7,
   "metadata": {
    "collapsed": true
   },
   "outputs": [],
   "source": [
    "clf = MultinomialNB(alpha=0.50,fit_prior=True)"
   ]
  },
  {
   "cell_type": "code",
   "execution_count": 8,
   "metadata": {},
   "outputs": [
    {
     "data": {
      "text/plain": [
       "MultinomialNB(alpha=0.5, class_prior=None, fit_prior=True)"
      ]
     },
     "execution_count": 8,
     "metadata": {},
     "output_type": "execute_result"
    }
   ],
   "source": [
    "clf.fit(X_train,Y_train)"
   ]
  },
  {
   "cell_type": "markdown",
   "metadata": {},
   "source": [
    "### Evaluación, matriz de confusión, medidas de desempeño"
   ]
  },
  {
   "cell_type": "code",
   "execution_count": 9,
   "metadata": {},
   "outputs": [
    {
     "name": "stdout",
     "output_type": "stream",
     "text": [
      "44.8916408669 %\n"
     ]
    }
   ],
   "source": [
    "all_predictions = clf.predict(X)\n",
    "print(clf.score(X_test,Y_test)*100,\"%\")"
   ]
  },
  {
   "cell_type": "code",
   "execution_count": 10,
   "metadata": {},
   "outputs": [
    {
     "data": {
      "text/plain": [
       "(471, 123, 524, 174)"
      ]
     },
     "execution_count": 10,
     "metadata": {},
     "output_type": "execute_result"
    }
   ],
   "source": [
    "tp, fn, fp, tn = confusion_matrix(Y, all_predictions).ravel()\n",
    "tp, fn, fp, tn "
   ]
  },
  {
   "cell_type": "markdown",
   "metadata": {},
   "source": [
    "<table>\n",
    "  <tr>\n",
    "    <th></th>\n",
    "    <th>Hombre</th>\n",
    "    <th>Mujer</th>\n",
    "  </tr>\n",
    "  <tr>\n",
    "    <td><b>Hombre</b></td>\n",
    "    <td>471</td>\n",
    "    <td>123</td>\n",
    "  </tr>\n",
    "  <tr>\n",
    "    <td><b>Mujer</b></td>\n",
    "    <td>524</td>\n",
    "    <td>174</td>\n",
    "  </tr>\n",
    "</table>"
   ]
  },
  {
   "cell_type": "code",
   "execution_count": 11,
   "metadata": {},
   "outputs": [
    {
     "name": "stdout",
     "output_type": "stream",
     "text": [
      "             precision    recall  f1-score   support\n",
      "\n",
      "     Hombre       0.47      0.79      0.59       594\n",
      "      Mujer       0.59      0.25      0.35       698\n",
      "\n",
      "avg / total       0.53      0.50      0.46      1292\n",
      "\n"
     ]
    }
   ],
   "source": [
    "target_names = ['Hombre','Mujer']\n",
    "print (classification_report(Y, all_predictions,target_names=target_names))"
   ]
  },
  {
   "cell_type": "markdown",
   "metadata": {},
   "source": [
    "### Interpretación\n",
    "De los 594 hombres, 471 fueron detectados correctamente.\n",
    "Mientras que de las 698 mujeres, sólo 174 fueron detectadas correctamente.\n",
    "\n",
    "Esto es contraintuitivo, pues dado que hay más mujeres, creería que tendría un mejor generalización."
   ]
  },
  {
   "cell_type": "markdown",
   "metadata": {},
   "source": [
    "La medidas de desempeño están alrededor del 50%, es decir, es equivalente tirar una moneda a usar el predictor. Sin embargo, la mujer tiene mejor precisión, pues de las 297 predicciones de mujer, 174 fueron correctas. \n",
    "\n",
    "Aún así, la medida F1 de la mujer no es superior a la del hombre, a pesar de la mayor cantidad de datos."
   ]
  },
  {
   "cell_type": "markdown",
   "metadata": {},
   "source": [
    "### K-Nearest"
   ]
  },
  {
   "cell_type": "markdown",
   "metadata": {},
   "source": [
    "Elegimos un K de 15"
   ]
  },
  {
   "cell_type": "markdown",
   "metadata": {},
   "source": [
    "Hacemos nuestro clasificador con el siguiente parámetro: <br>\n",
    "\n",
    "pesado 'distance' el cual pesa los puntos por el inverso de su distancia. Es decir, vecinos más cercanos del punto de búsqueda tienen mayor influencia que los puntos lejanos."
   ]
  },
  {
   "cell_type": "code",
   "execution_count": 12,
   "metadata": {
    "collapsed": true
   },
   "outputs": [],
   "source": [
    "n_neighbors = 15"
   ]
  },
  {
   "cell_type": "code",
   "execution_count": 13,
   "metadata": {},
   "outputs": [
    {
     "data": {
      "text/plain": [
       "KNeighborsClassifier(algorithm='auto', leaf_size=30, metric='minkowski',\n",
       "           metric_params=None, n_jobs=1, n_neighbors=15, p=2,\n",
       "           weights='distance')"
      ]
     },
     "execution_count": 13,
     "metadata": {},
     "output_type": "execute_result"
    }
   ],
   "source": [
    "kne = neighbors.KNeighborsClassifier(n_neighbors, weights='distance')\n",
    "kne.fit(X_train, Y_train)"
   ]
  },
  {
   "cell_type": "markdown",
   "metadata": {},
   "source": [
    "### Evaluación, matriz de confusión, medidas de desempeño"
   ]
  },
  {
   "cell_type": "code",
   "execution_count": 14,
   "metadata": {},
   "outputs": [
    {
     "name": "stdout",
     "output_type": "stream",
     "text": [
      "59.4427244582 %\n"
     ]
    }
   ],
   "source": [
    "all_predictions = kne.predict(X)\n",
    "print(kne.score(X_test,Y_test)*100,\"%\")"
   ]
  },
  {
   "cell_type": "code",
   "execution_count": 15,
   "metadata": {},
   "outputs": [
    {
     "name": "stdout",
     "output_type": "stream",
     "text": [
      "532 62 72 626\n"
     ]
    }
   ],
   "source": [
    "tp, fn, fp, tn = confusion_matrix(Y, all_predictions).ravel()\n",
    "print (tp, fn, fp, tn)"
   ]
  },
  {
   "cell_type": "markdown",
   "metadata": {},
   "source": [
    "<table>\n",
    "  <tr>\n",
    "    <th></th>\n",
    "    <th>Hombre</th>\n",
    "    <th>Mujer</th>\n",
    "  </tr>\n",
    "  <tr>\n",
    "    <td><b>Hombre</b></td>\n",
    "    <td>532</td>\n",
    "    <td>62</td>\n",
    "  </tr>\n",
    "  <tr>\n",
    "    <td><b>Mujer</b></td>\n",
    "    <td>72</td>\n",
    "    <td>626</td>\n",
    "  </tr>\n",
    "</table>"
   ]
  },
  {
   "cell_type": "code",
   "execution_count": 16,
   "metadata": {},
   "outputs": [
    {
     "name": "stdout",
     "output_type": "stream",
     "text": [
      "             precision    recall  f1-score   support\n",
      "\n",
      "     Hombre       0.88      0.90      0.89       594\n",
      "      Mujer       0.91      0.90      0.90       698\n",
      "\n",
      "avg / total       0.90      0.90      0.90      1292\n",
      "\n"
     ]
    }
   ],
   "source": [
    "target_names = ['Hombre','Mujer']\n",
    "print (classification_report(Y, all_predictions,target_names=target_names))"
   ]
  },
  {
   "cell_type": "markdown",
   "metadata": {},
   "source": [
    "### Interpretación de los resultados\n",
    "\n",
    "Observamos una mejora en el sistema. Detecta correctamente la mayoría de hombres y la mayoría de mujeres. Esto se ve reflejado también en las medidas de desempeño.\n",
    "\n",
    "Además, la medida F1 es mayor por poco en el caso de las mujeres. En general, conforme a la hipótesis planteada, K-Nearest se ha comportado mejor con la 1er representación vectorial."
   ]
  },
  {
   "cell_type": "markdown",
   "metadata": {},
   "source": [
    "## 2da Representación Vectorial"
   ]
  },
  {
   "cell_type": "markdown",
   "metadata": {},
   "source": [
    "### Obtener vectores X y Y"
   ]
  },
  {
   "cell_type": "markdown",
   "metadata": {},
   "source": [
    "Empezamos por limpiar el texto, eliminando la fecha y hora en la que se emite cada mensaje. Para lo cual definimos la siguiente expresión regular, y la función preprocesamiento, que elimina la fecha del texto."
   ]
  },
  {
   "cell_type": "code",
   "execution_count": 17,
   "metadata": {
    "collapsed": true
   },
   "outputs": [],
   "source": [
    "PATH = \"conversaciones/\"\n",
    "regex_fechahora = re.compile(\"[0-9][0-9]?(/|-)[0-9][0-9]?(/|-)([0-9][0-9])?[0-9][0-9]?,? [0-9][0-9]?:[0-9][0-9]:?([0-9][0-9])?:? (((a. ?m.|p. ?m.)|(AM|PM))? ?(:|-))? ?\")\n",
    "\n",
    "def preprocesamiento(s_texto):\n",
    "    s_texto = regex_fechahora.sub(\"\",s_texto)\n",
    "    return s_texto"
   ]
  },
  {
   "cell_type": "markdown",
   "metadata": {},
   "source": [
    "Después, extraemos el texto de cada participante, y lo guardamos en textoParticipante. También guardamos su respectiva etiqueta en el vector Y."
   ]
  },
  {
   "cell_type": "code",
   "execution_count": 18,
   "metadata": {
    "scrolled": false
   },
   "outputs": [],
   "source": [
    "X = []\n",
    "textoParticipante = []\n",
    "Y = []\n",
    "row_iterator = df.iterrows()\n",
    "regexQuitarNombre = re.compile(\".*?: \")\n",
    "for index,row in row_iterator:\n",
    "    #obtengo el row siguiente del iterador\n",
    "    _,siguiente = row_iterator.__next__()\n",
    "    #obtengo el nombre de la conversación si no es nulo, así como de los 2 participantes\n",
    "    s_nombreArchivo = row[u'Nombre de archivo de la conversación']\n",
    "    #obtengo el nombre de los participantes\n",
    "    s_nombrePart1 = row['Participante']\n",
    "    s_nombrePart2 = siguiente['Participante']\n",
    "    #Obtengo la expresión regular que me extrae los mensajes de dicho participante.\n",
    "    regexNombre1 = re.compile(re.escape(s_nombrePart1) + r\"( ?:? ?)?.*?\\n\")\n",
    "    regexNombre2 = re.compile(re.escape(s_nombrePart2) + r\"( ?:? ?)?.*?\\n\")\n",
    "    #Abro el archivo, y lo proceso\n",
    "    with io.open(\"\"+PATH+\"\"+s_nombreArchivo,mode=\"r\",encoding=\"utf-8\") as file:\n",
    "        s_texto = file.read()\n",
    "        #lo preproceso\n",
    "        s_texto = preprocesamiento(s_texto)\n",
    "        s_texto_1 = regexNombre1.sub(\"\",s_texto)\n",
    "        s_texto_2 = regexNombre2.sub(\"\",s_texto)\n",
    "        s_texto_1 = regexQuitarNombre.sub(\"\",s_texto_1)\n",
    "        s_texto_2 = regexQuitarNombre.sub(\"\",s_texto_2)\n",
    "        textoParticipante.append(s_texto_1)\n",
    "        textoParticipante.append(s_texto_2)\n",
    "        Y.append(row[u'Género'])\n",
    "        Y.append(siguiente[u'Género'])"
   ]
  },
  {
   "cell_type": "markdown",
   "metadata": {},
   "source": [
    "Creamos nuestro vectorizador, TFIDF, aplicando smoothing y un poco de preprocesamiento."
   ]
  },
  {
   "cell_type": "code",
   "execution_count": 19,
   "metadata": {},
   "outputs": [],
   "source": [
    "vectorizer = TfidfVectorizer(use_idf=True,               # Usa medida IDF\n",
    "                             lowercase=True,             # Convierte tokens a minúsculas.\n",
    "                             strip_accents='ascii',      # Elimina acentos y caracteres especiales\n",
    "                             smooth_idf=True             # Aplica alisado para prevenir divisiones entre cero.\n",
    "                             )"
   ]
  },
  {
   "cell_type": "markdown",
   "metadata": {
    "collapsed": true
   },
   "source": [
    "Como en la primera representación vectorial, nos aseguramos que textoParticipante y Y sean de la misma dimensión. Es decir, que a cada texto, le corresponde una etiqueta."
   ]
  },
  {
   "cell_type": "code",
   "execution_count": 20,
   "metadata": {},
   "outputs": [
    {
     "name": "stdout",
     "output_type": "stream",
     "text": [
      "Son del mismo tamaño\n"
     ]
    }
   ],
   "source": [
    "if len(Y) == len(textoParticipante):\n",
    "    print(\"Son del mismo tamaño\")"
   ]
  },
  {
   "cell_type": "markdown",
   "metadata": {},
   "source": [
    "Creamos la matriz X TFIDF utilizando el texto de cada participante"
   ]
  },
  {
   "cell_type": "code",
   "execution_count": 21,
   "metadata": {
    "collapsed": true
   },
   "outputs": [],
   "source": [
    "X = vectorizer.fit_transform(textoParticipante)"
   ]
  },
  {
   "cell_type": "markdown",
   "metadata": {},
   "source": [
    "Obteniendo las siguientes dimensiones"
   ]
  },
  {
   "cell_type": "code",
   "execution_count": 22,
   "metadata": {},
   "outputs": [
    {
     "name": "stdout",
     "output_type": "stream",
     "text": [
      "(1292, 168503)\n"
     ]
    }
   ],
   "source": [
    "print(X.shape)"
   ]
  },
  {
   "cell_type": "markdown",
   "metadata": {},
   "source": [
    "### Segmentación de datos\n",
    "Se realizará una segmentación para poder realizar una evaluación Hold-Out"
   ]
  },
  {
   "cell_type": "code",
   "execution_count": 23,
   "metadata": {
    "collapsed": true
   },
   "outputs": [],
   "source": [
    "X_train, X_test, Y_train, Y_test = train_test_split(X, Y, shuffle = True)"
   ]
  },
  {
   "cell_type": "markdown",
   "metadata": {},
   "source": [
    "### Naive Bayes"
   ]
  },
  {
   "cell_type": "code",
   "execution_count": 24,
   "metadata": {
    "collapsed": true
   },
   "outputs": [],
   "source": [
    "clf = MultinomialNB(alpha=0.50,fit_prior=True)"
   ]
  },
  {
   "cell_type": "code",
   "execution_count": 25,
   "metadata": {},
   "outputs": [
    {
     "data": {
      "text/plain": [
       "MultinomialNB(alpha=0.5, class_prior=None, fit_prior=True)"
      ]
     },
     "execution_count": 25,
     "metadata": {},
     "output_type": "execute_result"
    }
   ],
   "source": [
    "clf.fit(X_train,Y_train)"
   ]
  },
  {
   "cell_type": "markdown",
   "metadata": {},
   "source": [
    "### Evaluación, matriz de confusión, medidas de desempeño"
   ]
  },
  {
   "cell_type": "code",
   "execution_count": 26,
   "metadata": {},
   "outputs": [
    {
     "name": "stdout",
     "output_type": "stream",
     "text": [
      "61.919504644 %\n"
     ]
    }
   ],
   "source": [
    "print(clf.score(X_test,Y_test)*100,\"%\")"
   ]
  },
  {
   "cell_type": "code",
   "execution_count": 27,
   "metadata": {},
   "outputs": [
    {
     "data": {
      "text/plain": [
       "(176, 418, 0, 698)"
      ]
     },
     "execution_count": 27,
     "metadata": {},
     "output_type": "execute_result"
    }
   ],
   "source": [
    "all_predictions = clf.predict(X)\n",
    "tp, fn, fp, tn = confusion_matrix(Y, all_predictions).ravel()\n",
    "tp, fn, fp, tn "
   ]
  },
  {
   "cell_type": "markdown",
   "metadata": {
    "collapsed": true
   },
   "source": [
    "<table>\n",
    "  <tr>\n",
    "    <th></th>\n",
    "    <th>Hombre</th>\n",
    "    <th>Mujer</th>\n",
    "  </tr>\n",
    "  <tr>\n",
    "    <td><b>Hombre</b></td>\n",
    "    <td>176</td>\n",
    "    <td>418</td>\n",
    "  </tr>\n",
    "  <tr>\n",
    "    <td><b>Mujer</b></td>\n",
    "    <td>0</td>\n",
    "    <td>698</td>\n",
    "  </tr>\n",
    "</table>"
   ]
  },
  {
   "cell_type": "code",
   "execution_count": 28,
   "metadata": {},
   "outputs": [
    {
     "name": "stdout",
     "output_type": "stream",
     "text": [
      "             precision    recall  f1-score   support\n",
      "\n",
      "     Hombre       1.00      0.30      0.46       594\n",
      "      Mujer       0.63      1.00      0.77       698\n",
      "\n",
      "avg / total       0.80      0.68      0.63      1292\n",
      "\n"
     ]
    }
   ],
   "source": [
    "target_names = ['Hombre','Mujer']\n",
    "print (classification_report(Y, all_predictions,target_names=target_names))"
   ]
  },
  {
   "cell_type": "markdown",
   "metadata": {},
   "source": [
    "### Interpretación de resultados\n",
    "\n",
    "Todas las mujeres han sido clasificadas correctamente. Los hombres, en su mayoría han sido clasificados erróneamente."
   ]
  },
  {
   "cell_type": "markdown",
   "metadata": {},
   "source": [
    "La precisión de Hombre ha sido 100% pues todos los predichos fueron hombres. Sin embargo, su recall fue bajo, pues de todos los hombres que había, encontró la minoría.\n",
    "\n",
    "Con la mujer, las predicciones no fueron tan acertadas con lo cual la precisión es de 63%. Sin embargo, todas las mujeres fueron clasificadas como tal, por lo que el recall fue de 100%.\n",
    "\n",
    "En general, es coherente que la medida f1 salga mejor en la mujer, por el número de mujeres que hay en el corpus de entrenamiento.\n",
    "\n",
    "Además, en este caso, Naive Bayes con la 2da representación se ha comportado mejor que Naive Bayes con la 1ra Representación. Y aún así, se ha comportado peor que K-Nearest de la 1ra representación."
   ]
  },
  {
   "cell_type": "markdown",
   "metadata": {},
   "source": [
    "### K-Nearest"
   ]
  },
  {
   "cell_type": "markdown",
   "metadata": {},
   "source": [
    "Elegimos un K de 15\n",
    "\n",
    "Hacemos nuestro clasificador con el siguiente parámetro: \n",
    "\n",
    "pesado 'distance' el cual pesa los puntos por el inverso de su distancia. Es decir, vecinos más cercanos del punto de búsqueda tienen mayor influencia que los puntos lejanos."
   ]
  },
  {
   "cell_type": "code",
   "execution_count": 29,
   "metadata": {
    "collapsed": true
   },
   "outputs": [],
   "source": [
    "n_neighbors = 15"
   ]
  },
  {
   "cell_type": "code",
   "execution_count": 30,
   "metadata": {},
   "outputs": [
    {
     "data": {
      "text/plain": [
       "KNeighborsClassifier(algorithm='auto', leaf_size=30, metric='minkowski',\n",
       "           metric_params=None, n_jobs=1, n_neighbors=15, p=2,\n",
       "           weights='distance')"
      ]
     },
     "execution_count": 30,
     "metadata": {},
     "output_type": "execute_result"
    }
   ],
   "source": [
    "kne = neighbors.KNeighborsClassifier(n_neighbors, weights='distance')\n",
    "kne.fit(X_train, Y_train)"
   ]
  },
  {
   "cell_type": "markdown",
   "metadata": {},
   "source": [
    "### Evaluación, matriz de confusión, medidas de desempeño"
   ]
  },
  {
   "cell_type": "code",
   "execution_count": 31,
   "metadata": {},
   "outputs": [
    {
     "name": "stdout",
     "output_type": "stream",
     "text": [
      "60.6811145511 %\n"
     ]
    }
   ],
   "source": [
    "all_predictions = kne.predict(X)\n",
    "print(kne.score(X_test,Y_test)*100,\"%\")"
   ]
  },
  {
   "cell_type": "code",
   "execution_count": 32,
   "metadata": {},
   "outputs": [
    {
     "name": "stdout",
     "output_type": "stream",
     "text": [
      "477 117 12 686\n"
     ]
    }
   ],
   "source": [
    "tp, fn, fp, tn = confusion_matrix(Y, all_predictions).ravel()\n",
    "print (tp, fn, fp, tn)"
   ]
  },
  {
   "cell_type": "markdown",
   "metadata": {},
   "source": [
    "<table>\n",
    "  <tr>\n",
    "    <th></th>\n",
    "    <th>Hombre</th>\n",
    "    <th>Mujer</th>\n",
    "  </tr>\n",
    "  <tr>\n",
    "    <td><b>Hombre</b></td>\n",
    "    <td>477</td>\n",
    "    <td>117</td>\n",
    "  </tr>\n",
    "  <tr>\n",
    "    <td><b>Mujer</b></td>\n",
    "    <td>12</td>\n",
    "    <td>686</td>\n",
    "  </tr>\n",
    "</table>"
   ]
  },
  {
   "cell_type": "code",
   "execution_count": 33,
   "metadata": {},
   "outputs": [
    {
     "name": "stdout",
     "output_type": "stream",
     "text": [
      "             precision    recall  f1-score   support\n",
      "\n",
      "     Hombre       0.98      0.80      0.88       594\n",
      "      Mujer       0.85      0.98      0.91       698\n",
      "\n",
      "avg / total       0.91      0.90      0.90      1292\n",
      "\n"
     ]
    }
   ],
   "source": [
    "target_names = ['Hombre','Mujer']\n",
    "print (classification_report(Y, all_predictions,target_names=target_names))"
   ]
  },
  {
   "cell_type": "markdown",
   "metadata": {},
   "source": [
    "### Interpretación de resultados\n",
    "\n",
    "Se ha comportado un poco mejor Naive-Bayes que K-Nearest con la 2da representación vectorial. \n",
    "Al igual que Naive Bayes, el hombre tiene mayor precisión y menor recall, y la medida F1 sigue reflejando el hecho de que hay más mujeres con cuales generalizar.\n",
    "\n",
    "El promedio de las medidas de desempeño es superior a Naive Bayes."
   ]
  },
  {
   "cell_type": "markdown",
   "metadata": {},
   "source": [
    "# Conclusiones"
   ]
  },
  {
   "cell_type": "markdown",
   "metadata": {},
   "source": [
    "## 1ra Representación Vectorial"
   ]
  },
  {
   "cell_type": "markdown",
   "metadata": {},
   "source": [
    "#### NAIVE BAYES\n",
    "<table>\n",
    "  <tr>\n",
    "    <th></th>\n",
    "    <th>Hombre</th>\n",
    "    <th>Mujer</th>\n",
    "  </tr>\n",
    "  <tr>\n",
    "    <td><b>Hombre</b></td>\n",
    "    <td>471</td>\n",
    "    <td>123</td>\n",
    "  </tr>\n",
    "  <tr>\n",
    "    <td><b>Mujer</b></td>\n",
    "    <td>524</td>\n",
    "    <td>174</td>\n",
    "  </tr>\n",
    "</table>\n",
    "\n",
    "Score: 44.8916408669 %\n",
    "\n",
    "#### K-Nearest\n",
    "\n",
    "<table>\n",
    "  <tr>\n",
    "    <th></th>\n",
    "    <th>Hombre</th>\n",
    "    <th>Mujer</th>\n",
    "  </tr>\n",
    "  <tr>\n",
    "    <td><b>Hombre</b></td>\n",
    "    <td>532</td>\n",
    "    <td>62</td>\n",
    "  </tr>\n",
    "  <tr>\n",
    "    <td><b>Mujer</b></td>\n",
    "    <td>72</td>\n",
    "    <td>626</td>\n",
    "  </tr>\n",
    "</table>\n",
    "\n",
    "Score: 59.4427244582 %"
   ]
  },
  {
   "cell_type": "markdown",
   "metadata": {},
   "source": [
    "## 2da Representación Vectorial"
   ]
  },
  {
   "cell_type": "markdown",
   "metadata": {},
   "source": [
    "#### NAIVE BAYES\n",
    "<table>\n",
    "  <tr>\n",
    "    <th></th>\n",
    "    <th>Hombre</th>\n",
    "    <th>Mujer</th>\n",
    "  </tr>\n",
    "  <tr>\n",
    "    <td><b>Hombre</b></td>\n",
    "    <td>176</td>\n",
    "    <td>418</td>\n",
    "  </tr>\n",
    "  <tr>\n",
    "    <td><b>Mujer</b></td>\n",
    "    <td>0</td>\n",
    "    <td>698</td>\n",
    "  </tr>\n",
    "</table>\n",
    "\n",
    "Score: 61.919504644 %\n",
    "\n",
    "#### K-Nearest\n",
    "\n",
    "<table>\n",
    "  <tr>\n",
    "    <th></th>\n",
    "    <th>Hombre</th>\n",
    "    <th>Mujer</th>\n",
    "  </tr>\n",
    "  <tr>\n",
    "    <td><b>Hombre</b></td>\n",
    "    <td>477</td>\n",
    "    <td>117</td>\n",
    "  </tr>\n",
    "  <tr>\n",
    "    <td><b>Mujer</b></td>\n",
    "    <td>12</td>\n",
    "    <td>686</td>\n",
    "  </tr>\n",
    "</table>\n",
    "\n",
    "Score: 60.6811145511 %"
   ]
  },
  {
   "cell_type": "markdown",
   "metadata": {},
   "source": [
    "Según nuestra hipótesis, K-Nearest se comportaría mejor en la 1ra representación vectorial, y peor en la segunda, <b>lo cual resultó ser cierto</b> tomando sólo en cuenta el score. Sin embargo, dicha métrica no refleja del todo la realidad de los resultados.\n",
    "\n",
    "A pesar de que Naive-Bayes de la 2da representación tenga mejor score, observamos que hizo un pésimo trabajo para clasificar hombres. \n",
    "\n",
    "También, con los resultados se ve el incremento del score de Naive Bayes, al agregar más dimensiones a la representación vectorial. \n",
    "\n",
    "Si quisieramos algo más balanceado, yo me inclinaría a utilizar K-Nearest, con cualquiera de las 2 representaciones vectoriales, pues son los que poseen las matrices de confusión con mayores valores verdaderos positivos y verdaderos negativos.\n",
    "\n",
    "Si sólo nos fijáramos en los scores, se podría decir que es mejor tomar el texto que escribe la persona, que las características que conocemos de ella, para predecir su género. Sin embargo, si la tarea estuviera sometida a requerimientos de clasificación con algún margen de precisión o recall mínimo, seguramente tendríamos que recurrir al K-Nearest de la 1ra o la 2da representación, que son los que obtuvieron mejores medidas de desempeño.\n",
    "\n"
   ]
  }
 ],
 "metadata": {
  "kernelspec": {
   "display_name": "Python 3",
   "language": "python",
   "name": "python3"
  },
  "language_info": {
   "codemirror_mode": {
    "name": "ipython",
    "version": 3
   },
   "file_extension": ".py",
   "mimetype": "text/x-python",
   "name": "python",
   "nbconvert_exporter": "python",
   "pygments_lexer": "ipython3",
   "version": "3.6.3"
  }
 },
 "nbformat": 4,
 "nbformat_minor": 2
}
